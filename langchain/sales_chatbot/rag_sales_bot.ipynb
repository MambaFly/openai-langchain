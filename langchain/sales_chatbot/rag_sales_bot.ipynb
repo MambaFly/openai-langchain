{
 "cells": [
  {
   "cell_type": "code",
   "execution_count": 71,
   "id": "a230d82c-98df-41ea-a48e-49c0e0a96370",
   "metadata": {
    "tags": []
   },
   "outputs": [],
   "source": [
    "from langchain.embeddings.openai import OpenAIEmbeddings\n",
    "from langchain.text_splitter import CharacterTextSplitter\n",
    "from langchain.vectorstores import FAISS"
   ]
  },
  {
   "cell_type": "code",
   "execution_count": 72,
   "id": "488d0d25-c75d-488e-b2a7-4d00efc959ba",
   "metadata": {
    "tags": []
   },
   "outputs": [],
   "source": [
    "with open(\"orange_qa_database.txt\",encoding = 'utf-8') as f:\n",
    "    orange_sales_vector_database = f.read()"
   ]
  },
  {
   "cell_type": "code",
   "execution_count": 73,
   "id": "d0155a96-f199-4f75-8997-da504f8af37b",
   "metadata": {
    "tags": []
   },
   "outputs": [],
   "source": [
    "text_splitter = CharacterTextSplitter(        \n",
    "    separator = '---',\n",
    "    chunk_size = 200,\n",
    "    chunk_overlap  = 0,\n",
    "    length_function = len,\n",
    ")"
   ]
  },
  {
   "cell_type": "code",
   "execution_count": 74,
   "id": "b10a3b25-c82c-45e0-a845-440872935714",
   "metadata": {
    "tags": []
   },
   "outputs": [],
   "source": [
    "docs = text_splitter.create_documents([orange_sales_vector_database])"
   ]
  },
  {
   "cell_type": "code",
   "execution_count": 75,
   "id": "83781fee-29db-4a76-af1f-2ccb7df546ed",
   "metadata": {
    "tags": []
   },
   "outputs": [],
   "source": [
    "db = FAISS.from_documents(docs, OpenAIEmbeddings())"
   ]
  },
  {
   "cell_type": "code",
   "execution_count": 76,
   "id": "c70248d8-d934-45a2-9565-a66cf687e40a",
   "metadata": {
    "tags": []
   },
   "outputs": [],
   "source": [
    "query = \"有哪些橘子\""
   ]
  },
  {
   "cell_type": "code",
   "execution_count": 77,
   "id": "0ed4c79d-54d5-46a2-a122-de43ef5d4a62",
   "metadata": {
    "tags": []
   },
   "outputs": [],
   "source": [
    "answer_list = db.similarity_search(query)"
   ]
  },
  {
   "cell_type": "code",
   "execution_count": 78,
   "id": "0c04b804-b4d1-40e9-bbbf-703ccb4d3a1e",
   "metadata": {
    "tags": []
   },
   "outputs": [
    {
     "data": {
      "text/plain": [
       "[Document(page_content='[问题]  \\n你们的橘子都有哪些品种？  \\n\\n[回答]  \\n我们主要有两个品种的橘子，分别是甘平和爱媛。甘平橘子果肉细嫩、汁水丰富，口感甜美。爱媛橘子则皮薄肉多，风味清甜，且香气浓郁。无论是鲜食还是榨汁，都是非常好的选择。'),\n",
       " Document(page_content='[问题]  \\n除了爱媛橘子，还有其他果子吗？  \\n\\n[回答]  \\n12月底我们会有甘平橘子上市，这种橘子个头大、果肉饱满，特别适合逢年过节送礼。您吃过甘平吗？它的口感非常棒，是非常受欢迎的品种。'),\n",
       " Document(page_content='[问题]  \\n你们的橘子能用来做果酱或者甜点吗？  \\n\\n[回答]  \\n是的，甘平和爱媛橘子都非常适合用来做果酱或者甜点。它们的果肉香甜，水分充足，做出来的果酱口感浓郁。而且橘子的天然甜味可以减少额外的糖分添加，是健康又美味的选择！'),\n",
       " Document(page_content='[问题]  \\n橘子酸吗？我比较怕酸。  \\n\\n[回答]  \\n橘子的酸甜度可能会受到光照等自然条件的影响，但我们家的橘子没有使用甜蜜素等催熟剂，所以口感是天然的、最好的。爱媛橘子通常比较甜，甘平橘子的甜度也很高。您可以先买一箱试试看，如果觉得合适再购买更多。\\n\\n---\\n\\n[问题]  \\n橘子什么时候成熟的？  \\n\\n[回答]  \\n我们的橘子10月底就成熟了哦，现在正是最好的时候，赶紧入手品尝吧！')]"
      ]
     },
     "execution_count": 78,
     "metadata": {},
     "output_type": "execute_result"
    }
   ],
   "source": [
    "answer_list"
   ]
  },
  {
   "cell_type": "code",
   "execution_count": 79,
   "id": "4f794a34-a44e-4418-b75e-aa36a742e78c",
   "metadata": {
    "tags": []
   },
   "outputs": [],
   "source": [
    "db.save_local(\"orange_sales_vector_database\")"
   ]
  },
  {
   "cell_type": "code",
   "execution_count": 80,
   "id": "6c9cdbf2-823a-410a-b9ff-f274855a29fe",
   "metadata": {
    "tags": []
   },
   "outputs": [
    {
     "name": "stdout",
     "output_type": "stream",
     "text": [
      "<module 'gradio.themes' from 'E:\\\\Programing\\\\Anaconda3\\\\envs\\\\langchain\\\\lib\\\\site-packages\\\\gradio\\\\themes\\\\__init__.py'>\n"
     ]
    }
   ],
   "source": [
    "import gradio as gr\n",
    "print(gr.themes)"
   ]
  },
  {
   "cell_type": "code",
   "execution_count": null,
   "id": "19fa209b-97c0-43d2-b0e5-fa8d2d364f1b",
   "metadata": {},
   "outputs": [],
   "source": []
  },
  {
   "cell_type": "code",
   "execution_count": 12,
   "id": "dd46435f-7553-482c-9552-6f0c6dd1ef55",
   "metadata": {
    "tags": []
   },
   "outputs": [],
   "source": [
    "import os\n",
    "from langchain.vectorstores import FAISS\n",
    "from langchain_openai import OpenAIEmbeddings\n",
    "from langchain_openai import ChatOpenAI\n",
    "from langchain_core.prompts import ChatPromptTemplate\n",
    "from langchain_core.prompts import MessagesPlaceholder\n",
    "from langchain.chains import create_retrieval_chain\n",
    "from langchain.chains import create_history_aware_retriever\n",
    "from langchain.chains.combine_documents import create_stuff_documents_chain\n",
    "from langchain_community.chat_message_histories import ChatMessageHistory\n",
    "from langchain_core.chat_history import BaseChatMessageHistory\n",
    "from langchain_core.runnables.history import RunnableWithMessageHistory\n",
    "os.environ['HTTP_PROXY'] = '127.0.0.1:7890'\n",
    "os.environ['HTTPS_PROXY'] = '127.0.0.1:7890'"
   ]
  },
  {
   "cell_type": "code",
   "execution_count": 81,
   "id": "bcf2958b-0087-435b-b4c3-76c3bbfb8fa9",
   "metadata": {
    "tags": []
   },
   "outputs": [],
   "source": [
    "db = FAISS.load_local(\"orange_sales_vector_database\", OpenAIEmbeddings(),allow_dangerous_deserialization = True)\n",
    "retriever=db.as_retriever(search_type=\"similarity_score_threshold\",\n",
    "                          search_kwargs={\"score_threshold\": 0.8})\n",
    "llm = ChatOpenAI(model=\"gpt-4o-mini\",\n",
    "                openai_proxy = 'http://127.0.0.1:7890')"
   ]
  },
  {
   "cell_type": "code",
   "execution_count": 13,
   "id": "f05c4663-2623-4210-96d8-63fd8ff2043b",
   "metadata": {
    "tags": []
   },
   "outputs": [],
   "source": [
    "### Contextualize question ###\n",
    "contextualize_q_system_prompt = (\n",
    "    \"Given a chat history and the latest user question \"\n",
    "    \"which might reference context in the chat history, \"\n",
    "    \"formulate a standalone question which can be understood \"\n",
    "    \"without the chat history. Do NOT answer the question, \"\n",
    "    \"just reformulate it if needed and otherwise return it as is.\"\n",
    ")\n",
    "contextualize_q_prompt = ChatPromptTemplate.from_messages(\n",
    "    [\n",
    "        (\"system\", contextualize_q_system_prompt),\n",
    "        MessagesPlaceholder(\"chat_history\"),\n",
    "        (\"human\", \"{input}\"),\n",
    "    ]\n",
    ")\n",
    "history_aware_retriever = create_history_aware_retriever(\n",
    "    llm, retriever, contextualize_q_prompt\n",
    ")\n"
   ]
  },
  {
   "cell_type": "code",
   "execution_count": 14,
   "id": "813c690d-fb1f-4763-b16c-7cf8158f6618",
   "metadata": {
    "tags": []
   },
   "outputs": [],
   "source": [
    "### Answer question ###\n",
    "system_prompt = (\n",
    "    \"You are an assistant for question-answering tasks. \"\n",
    "    \"Use the following pieces of retrieved context to answer \"\n",
    "    \"the question. If you don't know the answer, say that you \"\n",
    "    \"don't know. Use three sentences maximum and keep the \"\n",
    "    \"answer concise.\"\n",
    "    \"\\n\\n\"\n",
    "    \"{context}\"\n",
    ")\n",
    "qa_prompt = ChatPromptTemplate.from_messages(\n",
    "    [\n",
    "        (\"system\", system_prompt),\n",
    "        MessagesPlaceholder(\"chat_history\"),\n",
    "        (\"human\", \"{input}\"),\n",
    "    ]\n",
    ")\n",
    "question_answer_chain = create_stuff_documents_chain(llm, qa_prompt)\n",
    "\n",
    "rag_chain = create_retrieval_chain(history_aware_retriever, question_answer_chain)"
   ]
  },
  {
   "cell_type": "code",
   "execution_count": 15,
   "id": "32fc4046-6604-47b1-836a-678fc2d4016d",
   "metadata": {
    "tags": []
   },
   "outputs": [],
   "source": [
    "### Statefully manage chat history ###\n",
    "store = {}\n",
    "\n",
    "\n",
    "def get_session_history(session_id: str) -> BaseChatMessageHistory:\n",
    "    if session_id not in store:\n",
    "        store[session_id] = ChatMessageHistory()\n",
    "    return store[session_id]\n",
    "\n",
    "\n",
    "conversational_rag_chain = RunnableWithMessageHistory(\n",
    "    rag_chain,\n",
    "    get_session_history,\n",
    "    input_messages_key=\"input\",\n",
    "    history_messages_key=\"chat_history\",\n",
    "    output_messages_key=\"answer\",\n",
    ")"
   ]
  },
  {
   "cell_type": "code",
   "execution_count": 17,
   "id": "def3597f-7992-4ef0-8755-2a05f9a15ea0",
   "metadata": {
    "tags": []
   },
   "outputs": [
    {
     "data": {
      "text/plain": [
       "{'input': '小区吵不吵？',\n",
       " 'chat_history': [HumanMessage(content='小区吵不吵？'),\n",
       "  AIMessage(content='这个小区特别注重居住体验，拥有良好的隔音设计，并且内部规划了绿化区域，可以有效降低噪音。')],\n",
       " 'context': [Document(page_content='[客户问题] 我担心楼下太吵。\\n[销售回答] 这个小区特别注重居住体验，我们有良好的隔音设计，并且小区内部规划了绿化区域，可以有效降低噪音。'),\n",
       "  Document(page_content='[客户问题] 我喜欢安静，这里噪音大吗？\\n[销售回答] 我们特意进行了隔音设计，并且小区内部也有绿化带，整体非常安静。'),\n",
       "  Document(page_content='[客户问题] 我担心楼下的商业活动会很吵。\\n[销售回答] 我们在规划时就已经考虑到这一点，商业区和居住区有一定的距离和隔音设计。')],\n",
       " 'answer': '小区经过特别的隔音设计，并且内部有绿化带，整体非常安静。'}"
      ]
     },
     "execution_count": 17,
     "metadata": {},
     "output_type": "execute_result"
    }
   ],
   "source": [
    "query = \"小区吵不吵？\"\n",
    "conversational_rag_chain.invoke(\n",
    "    {\"input\": query},\n",
    "    config={\n",
    "        \"configurable\": {\"session_id\": \"abc123\"}\n",
    "    },  # constructs a key \"abc123\" in `store`.\n",
    ")"
   ]
  },
  {
   "cell_type": "code",
   "execution_count": 18,
   "id": "4423d17c-ea53-4bb4-bd20-e0322bf1c9b9",
   "metadata": {
    "tags": []
   },
   "outputs": [
    {
     "data": {
      "text/plain": [
       "{'input': '那交通呢？',\n",
       " 'chat_history': [HumanMessage(content='小区吵不吵？'),\n",
       "  AIMessage(content='这个小区特别注重居住体验，拥有良好的隔音设计，并且内部规划了绿化区域，可以有效降低噪音。'),\n",
       "  HumanMessage(content='小区吵不吵？'),\n",
       "  AIMessage(content='小区经过特别的隔音设计，并且内部有绿化带，整体非常安静。')],\n",
       " 'context': [Document(page_content='[客户问题] 这个小区交通便利吗？\\n[销售回答] 当然了，这个小区距离地铁站只有几分钟的步行距离，而且附近有多条公交线路，非常方便。'),\n",
       "  Document(page_content='[客户问题] 我听说这个区域交通常常堵塞。\\n[销售回答] 我们小区的位置实际上是绕开了主要交通瓶颈区，所以相对来说会流畅很多。'),\n",
       "  Document(page_content='[客户问题] 交通如何？\\n[销售回答] 交通非常便利，不仅靠近地铁站，还有多条公交线路。'),\n",
       "  Document(page_content='[客户问题] 我担心小区会很拥挤。\\n[销售回答] 这个小区总体规划非常合理，保证了每个单元之间有足够的空间。')],\n",
       " 'answer': '交通非常便利，小区距离地铁站只有几分钟的步行距离，还有多条公交线路。'}"
      ]
     },
     "execution_count": 18,
     "metadata": {},
     "output_type": "execute_result"
    }
   ],
   "source": [
    "query = \"那交通呢？\"\n",
    "conversational_rag_chain.invoke(\n",
    "    {\"input\": query},\n",
    "    config={\n",
    "        \"configurable\": {\"session_id\": \"abc123\"}\n",
    "    },  # constructs a key \"abc123\" in `store`.\n",
    ")"
   ]
  },
  {
   "cell_type": "code",
   "execution_count": 19,
   "id": "a1ddf2fc-9a7a-4ec7-95e1-ff0b39b42704",
   "metadata": {
    "tags": []
   },
   "outputs": [
    {
     "data": {
      "text/plain": [
       "{'input': '环境如何？',\n",
       " 'chat_history': [HumanMessage(content='小区吵不吵？'),\n",
       "  AIMessage(content='这个小区特别注重居住体验，拥有良好的隔音设计，并且内部规划了绿化区域，可以有效降低噪音。'),\n",
       "  HumanMessage(content='小区吵不吵？'),\n",
       "  AIMessage(content='小区经过特别的隔音设计，并且内部有绿化带，整体非常安静。'),\n",
       "  HumanMessage(content='那交通呢？'),\n",
       "  AIMessage(content='交通非常便利，小区距离地铁站只有几分钟的步行距离，还有多条公交线路。')],\n",
       " 'context': [Document(page_content='[客户问题] 小区里有公园吗？\\n[销售回答] 是的，我们有专门设计的绿化区和儿童游乐园，确保您和家人能享受到高质量的生活。'),\n",
       "  Document(page_content='[客户问题] 我喜欢安静，这里噪音大吗？\\n[销售回答] 我们特意进行了隔音设计，并且小区内部也有绿化带，整体非常安静。'),\n",
       "  Document(page_content='[客户问题] 我很关注环境保护，你们有做到吗？\\n[销售回答] 非常好的问题，我们的建筑采用环保材料，并且在小区规划中也有绿化区域和垃圾分类系统。'),\n",
       "  Document(page_content='[客户问题] 我担心楼下太吵。\\n[销售回答] 这个小区特别注重居住体验，我们有良好的隔音设计，并且小区内部规划了绿化区域，可以有效降低噪音。')],\n",
       " 'answer': '小区环境优美，采用了环保材料，并设有绿化区域，提供高质量的居住环境。'}"
      ]
     },
     "execution_count": 19,
     "metadata": {},
     "output_type": "execute_result"
    }
   ],
   "source": [
    "query = \"环境如何？\"\n",
    "conversational_rag_chain.invoke(\n",
    "    {\"input\": query},\n",
    "    config={\"configurable\": {\"session_id\": \"abc123\"}}, \n",
    ")"
   ]
  },
  {
   "cell_type": "code",
   "execution_count": 29,
   "id": "42c09125-6414-40c6-8aa2-997680c31b41",
   "metadata": {
    "tags": []
   },
   "outputs": [
    {
     "data": {
      "text/plain": [
       "ChatPromptTemplate(input_variables=['chat_history', 'context', 'input'], input_types={'chat_history': typing.List[typing.Union[langchain_core.messages.ai.AIMessage, langchain_core.messages.human.HumanMessage, langchain_core.messages.chat.ChatMessage, langchain_core.messages.system.SystemMessage, langchain_core.messages.function.FunctionMessage, langchain_core.messages.tool.ToolMessage]]}, messages=[SystemMessagePromptTemplate(prompt=PromptTemplate(input_variables=['context'], template=\"You are an assistant for question-answering tasks. Use the following pieces of retrieved context to answer the question. If you don't know the answer, say that you don't know. Use three sentences maximum and keep the answer concise.\\n\\n{context}\")), MessagesPlaceholder(variable_name='chat_history'), HumanMessagePromptTemplate(prompt=PromptTemplate(input_variables=['input'], template='{input}'))])"
      ]
     },
     "execution_count": 29,
     "metadata": {},
     "output_type": "execute_result"
    }
   ],
   "source": [
    "qa_prompt"
   ]
  },
  {
   "cell_type": "code",
   "execution_count": null,
   "id": "c47de443-6b56-435e-9fdb-3987f0c66f5f",
   "metadata": {},
   "outputs": [],
   "source": []
  },
  {
   "cell_type": "code",
   "execution_count": 3,
   "id": "354a2898-f36b-4b65-8922-c57e3f405851",
   "metadata": {
    "tags": []
   },
   "outputs": [],
   "source": [
    "llm = ChatOpenAI(model=\"gpt-4o-mini\",\n",
    "                openai_proxy = 'http://127.0.0.1:7890')\n",
    "\n",
    "system_prompt = (\n",
    "    \"Use the given context to answer the question. \"\n",
    "    \"If you don't know the answer, say you don't know. \"\n",
    "    \"Use three sentence maximum and keep the answer concise. \"\n",
    "    \"Context: {context}\"\n",
    ")\n",
    "prompt = ChatPromptTemplate.from_messages(\n",
    "    [\n",
    "        (\"system\", system_prompt),\n",
    "        (\"human\", \"{input}\"),\n",
    "    ]\n",
    ")"
   ]
  },
  {
   "cell_type": "code",
   "execution_count": 4,
   "id": "993ba2a0-1085-4f56-8e2c-268dec3752ca",
   "metadata": {
    "tags": []
   },
   "outputs": [],
   "source": [
    "question_answer_chain = create_stuff_documents_chain(llm, prompt)\n",
    "rag_chain = create_retrieval_chain(retriever, question_answer_chain)"
   ]
  },
  {
   "cell_type": "code",
   "execution_count": 5,
   "id": "6de1e43e-5bdb-4a27-a36c-ef70e235716d",
   "metadata": {
    "tags": []
   },
   "outputs": [
    {
     "data": {
      "text/plain": [
       "{'input': '小区吵不吵？',\n",
       " 'context': [Document(page_content='[客户问题] 我担心楼下太吵。\\n[销售回答] 这个小区特别注重居住体验，我们有良好的隔音设计，并且小区内部规划了绿化区域，可以有效降低噪音。')],\n",
       " 'answer': '小区特别注重居住体验，拥有良好的隔音设计和绿化区域，可以有效降低噪音。'}"
      ]
     },
     "execution_count": 5,
     "metadata": {},
     "output_type": "execute_result"
    }
   ],
   "source": [
    "query = \"小区吵不吵？\"\n",
    "rag_chain.invoke({\"input\": query})"
   ]
  },
  {
   "cell_type": "code",
   "execution_count": null,
   "id": "d54c1a06-58c5-458d-9bf7-fd289523f044",
   "metadata": {},
   "outputs": [],
   "source": []
  },
  {
   "cell_type": "code",
   "execution_count": null,
   "id": "9a40cd39-7e2d-4001-89af-5c03e92eb7f9",
   "metadata": {},
   "outputs": [],
   "source": []
  }
 ],
 "metadata": {
  "kernelspec": {
   "display_name": "langchain",
   "language": "python",
   "name": "langchain"
  },
  "language_info": {
   "codemirror_mode": {
    "name": "ipython",
    "version": 3
   },
   "file_extension": ".py",
   "mimetype": "text/x-python",
   "name": "python",
   "nbconvert_exporter": "python",
   "pygments_lexer": "ipython3",
   "version": "3.10.14"
  }
 },
 "nbformat": 4,
 "nbformat_minor": 5
}
